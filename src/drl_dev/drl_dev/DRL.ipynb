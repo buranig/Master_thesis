{
 "cells": [
  {
   "cell_type": "code",
   "execution_count": 1,
   "id": "deed567d-1024-47c0-96fd-99efa7ec4e3f",
   "metadata": {},
   "outputs": [
    {
     "name": "stdout",
     "output_type": "stream",
     "text": [
      "Defaulting to user installation because normal site-packages is not writeable\n",
      "Requirement already satisfied: tensorflow==2.15 in /usr/local/lib/python3.10/dist-packages (2.15.0)\n",
      "Requirement already satisfied: absl-py>=1.0.0 in /home/giacomo/.local/lib/python3.10/site-packages (from tensorflow==2.15) (2.1.0)\n",
      "Requirement already satisfied: astunparse>=1.6.0 in /home/giacomo/.local/lib/python3.10/site-packages (from tensorflow==2.15) (1.6.3)\n",
      "Requirement already satisfied: flatbuffers>=23.5.26 in /home/giacomo/.local/lib/python3.10/site-packages (from tensorflow==2.15) (24.3.25)\n",
      "Requirement already satisfied: gast!=0.5.0,!=0.5.1,!=0.5.2,>=0.2.1 in /home/giacomo/.local/lib/python3.10/site-packages (from tensorflow==2.15) (0.5.5)\n",
      "Requirement already satisfied: google-pasta>=0.1.1 in /home/giacomo/.local/lib/python3.10/site-packages (from tensorflow==2.15) (0.2.0)\n",
      "Requirement already satisfied: h5py>=2.9.0 in /home/giacomo/.local/lib/python3.10/site-packages (from tensorflow==2.15) (3.10.0)\n",
      "Requirement already satisfied: libclang>=13.0.0 in /home/giacomo/.local/lib/python3.10/site-packages (from tensorflow==2.15) (18.1.1)\n",
      "Collecting ml-dtypes~=0.2.0 (from tensorflow==2.15)\n",
      "  Using cached ml_dtypes-0.2.0-cp310-cp310-manylinux_2_17_x86_64.manylinux2014_x86_64.whl.metadata (20 kB)\n",
      "Requirement already satisfied: numpy<2.0.0,>=1.23.5 in /home/giacomo/.local/lib/python3.10/site-packages (from tensorflow==2.15) (1.26.1)\n",
      "Requirement already satisfied: opt-einsum>=2.3.2 in /home/giacomo/.local/lib/python3.10/site-packages (from tensorflow==2.15) (3.3.0)\n",
      "Requirement already satisfied: packaging in /home/giacomo/.local/lib/python3.10/site-packages (from tensorflow==2.15) (24.1)\n",
      "Requirement already satisfied: protobuf!=4.21.0,!=4.21.1,!=4.21.2,!=4.21.3,!=4.21.4,!=4.21.5,<5.0.0dev,>=3.20.3 in /home/giacomo/.local/lib/python3.10/site-packages (from tensorflow==2.15) (4.25.3)\n",
      "Requirement already satisfied: setuptools in /home/giacomo/.local/lib/python3.10/site-packages (from tensorflow==2.15) (68.2.2)\n",
      "Requirement already satisfied: six>=1.12.0 in /usr/lib/python3/dist-packages (from tensorflow==2.15) (1.16.0)\n",
      "Requirement already satisfied: termcolor>=1.1.0 in /home/giacomo/.local/lib/python3.10/site-packages (from tensorflow==2.15) (2.4.0)\n",
      "Requirement already satisfied: typing-extensions>=3.6.6 in /home/giacomo/.local/lib/python3.10/site-packages (from tensorflow==2.15) (4.8.0)\n",
      "Requirement already satisfied: wrapt<1.15,>=1.11.0 in /usr/lib/python3/dist-packages (from tensorflow==2.15) (1.13.3)\n",
      "Requirement already satisfied: tensorflow-io-gcs-filesystem>=0.23.1 in /home/giacomo/.local/lib/python3.10/site-packages (from tensorflow==2.15) (0.37.0)\n",
      "Requirement already satisfied: grpcio<2.0,>=1.24.3 in /home/giacomo/.local/lib/python3.10/site-packages (from tensorflow==2.15) (1.64.1)\n",
      "Collecting tensorboard<2.16,>=2.15 (from tensorflow==2.15)\n",
      "  Using cached tensorboard-2.15.2-py3-none-any.whl.metadata (1.7 kB)\n",
      "Requirement already satisfied: tensorflow-estimator<2.16,>=2.15.0 in /usr/local/lib/python3.10/dist-packages (from tensorflow==2.15) (2.15.0)\n",
      "Collecting keras<2.16,>=2.15.0 (from tensorflow==2.15)\n",
      "  Using cached keras-2.15.0-py3-none-any.whl.metadata (2.4 kB)\n",
      "Requirement already satisfied: wheel<1.0,>=0.23.0 in /usr/lib/python3/dist-packages (from astunparse>=1.6.0->tensorflow==2.15) (0.37.1)\n",
      "Requirement already satisfied: google-auth<3,>=1.6.3 in /usr/local/lib/python3.10/dist-packages (from tensorboard<2.16,>=2.15->tensorflow==2.15) (2.30.0)\n",
      "Requirement already satisfied: google-auth-oauthlib<2,>=0.5 in /usr/local/lib/python3.10/dist-packages (from tensorboard<2.16,>=2.15->tensorflow==2.15) (1.2.0)\n",
      "Requirement already satisfied: markdown>=2.6.8 in /home/giacomo/.local/lib/python3.10/site-packages (from tensorboard<2.16,>=2.15->tensorflow==2.15) (3.6)\n",
      "Requirement already satisfied: requests<3,>=2.21.0 in /home/giacomo/.local/lib/python3.10/site-packages (from tensorboard<2.16,>=2.15->tensorflow==2.15) (2.32.3)\n",
      "Requirement already satisfied: tensorboard-data-server<0.8.0,>=0.7.0 in /home/giacomo/.local/lib/python3.10/site-packages (from tensorboard<2.16,>=2.15->tensorflow==2.15) (0.7.2)\n",
      "Requirement already satisfied: werkzeug>=1.0.1 in /home/giacomo/.local/lib/python3.10/site-packages (from tensorboard<2.16,>=2.15->tensorflow==2.15) (3.0.1)\n",
      "Requirement already satisfied: cachetools<6.0,>=2.0.0 in /usr/local/lib/python3.10/dist-packages (from google-auth<3,>=1.6.3->tensorboard<2.16,>=2.15->tensorflow==2.15) (5.3.3)\n",
      "Requirement already satisfied: pyasn1-modules>=0.2.1 in /usr/local/lib/python3.10/dist-packages (from google-auth<3,>=1.6.3->tensorboard<2.16,>=2.15->tensorflow==2.15) (0.4.0)\n",
      "Requirement already satisfied: rsa<5,>=3.1.4 in /usr/local/lib/python3.10/dist-packages (from google-auth<3,>=1.6.3->tensorboard<2.16,>=2.15->tensorflow==2.15) (4.9)\n",
      "Requirement already satisfied: requests-oauthlib>=0.7.0 in /usr/local/lib/python3.10/dist-packages (from google-auth-oauthlib<2,>=0.5->tensorboard<2.16,>=2.15->tensorflow==2.15) (2.0.0)\n",
      "Requirement already satisfied: charset-normalizer<4,>=2 in /home/giacomo/.local/lib/python3.10/site-packages (from requests<3,>=2.21.0->tensorboard<2.16,>=2.15->tensorflow==2.15) (3.3.2)\n",
      "Requirement already satisfied: idna<4,>=2.5 in /usr/lib/python3/dist-packages (from requests<3,>=2.21.0->tensorboard<2.16,>=2.15->tensorflow==2.15) (3.3)\n",
      "Requirement already satisfied: urllib3<3,>=1.21.1 in /usr/lib/python3/dist-packages (from requests<3,>=2.21.0->tensorboard<2.16,>=2.15->tensorflow==2.15) (1.26.5)\n",
      "Requirement already satisfied: certifi>=2017.4.17 in /usr/lib/python3/dist-packages (from requests<3,>=2.21.0->tensorboard<2.16,>=2.15->tensorflow==2.15) (2020.6.20)\n",
      "Requirement already satisfied: MarkupSafe>=2.1.1 in /home/giacomo/.local/lib/python3.10/site-packages (from werkzeug>=1.0.1->tensorboard<2.16,>=2.15->tensorflow==2.15) (2.1.5)\n",
      "Requirement already satisfied: pyasn1<0.7.0,>=0.4.6 in /usr/local/lib/python3.10/dist-packages (from pyasn1-modules>=0.2.1->google-auth<3,>=1.6.3->tensorboard<2.16,>=2.15->tensorflow==2.15) (0.6.0)\n",
      "Requirement already satisfied: oauthlib>=3.0.0 in /usr/lib/python3/dist-packages (from requests-oauthlib>=0.7.0->google-auth-oauthlib<2,>=0.5->tensorboard<2.16,>=2.15->tensorflow==2.15) (3.2.0)\n",
      "Downloading keras-2.15.0-py3-none-any.whl (1.7 MB)\n",
      "\u001b[2K   \u001b[38;2;114;156;31m━━━━━━━━━━━━━━━━━━━━━━━━━━━━━━━━━━━━━━━━\u001b[0m \u001b[32m1.7/1.7 MB\u001b[0m \u001b[31m12.7 MB/s\u001b[0m eta \u001b[36m0:00:00\u001b[0m31m12.7 MB/s\u001b[0m eta \u001b[36m0:00:01\u001b[0m\n",
      "\u001b[?25hDownloading ml_dtypes-0.2.0-cp310-cp310-manylinux_2_17_x86_64.manylinux2014_x86_64.whl (1.0 MB)\n",
      "\u001b[2K   \u001b[38;2;114;156;31m━━━━━━━━━━━━━━━━━━━━━━━━━━━━━━━━━━━━━━━━\u001b[0m \u001b[32m1.0/1.0 MB\u001b[0m \u001b[31m9.0 MB/s\u001b[0m eta \u001b[36m0:00:00\u001b[0m0m eta \u001b[36m0:00:01\u001b[0m:01\u001b[0mm\n",
      "\u001b[?25hDownloading tensorboard-2.15.2-py3-none-any.whl (5.5 MB)\n",
      "\u001b[2K   \u001b[38;2;114;156;31m━━━━━━━━━━━━━━━━━━━━━━━━━━━━━━━━━━━━━━━━\u001b[0m \u001b[32m5.5/5.5 MB\u001b[0m \u001b[31m14.7 MB/s\u001b[0m eta \u001b[36m0:00:00\u001b[0mm eta \u001b[36m0:00:01\u001b[0m0:01\u001b[0m:01\u001b[0m\n",
      "\u001b[?25hInstalling collected packages: ml-dtypes, keras, tensorboard\n",
      "  Attempting uninstall: ml-dtypes\n",
      "    Found existing installation: ml-dtypes 0.3.2\n",
      "    Uninstalling ml-dtypes-0.3.2:\n",
      "      Successfully uninstalled ml-dtypes-0.3.2\n",
      "  Attempting uninstall: keras\n",
      "    Found existing installation: keras 3.4.1\n",
      "    Uninstalling keras-3.4.1:\n",
      "      Successfully uninstalled keras-3.4.1\n",
      "  Attempting uninstall: tensorboard\n",
      "    Found existing installation: tensorboard 2.16.2\n",
      "    Uninstalling tensorboard-2.16.2:\n",
      "      Successfully uninstalled tensorboard-2.16.2\n",
      "\u001b[31mERROR: pip's dependency resolver does not currently take into account all the packages that are installed. This behaviour is the source of the following dependency conflicts.\n",
      "mediapipe 0.10.11 requires protobuf<4,>=3.11, but you have protobuf 4.25.3 which is incompatible.\u001b[0m\u001b[31m\n",
      "\u001b[0mSuccessfully installed keras-2.15.0 ml-dtypes-0.2.0 tensorboard-2.15.2\n",
      "Defaulting to user installation because normal site-packages is not writeable\n",
      "Requirement already satisfied: gym in /home/giacomo/.local/lib/python3.10/site-packages (0.26.2)\n",
      "Requirement already satisfied: numpy>=1.18.0 in /home/giacomo/.local/lib/python3.10/site-packages (from gym) (1.26.1)\n",
      "Requirement already satisfied: cloudpickle>=1.2.0 in /home/giacomo/.local/lib/python3.10/site-packages (from gym) (3.0.0)\n",
      "Requirement already satisfied: gym-notices>=0.0.4 in /home/giacomo/.local/lib/python3.10/site-packages (from gym) (0.0.8)\n",
      "Defaulting to user installation because normal site-packages is not writeable\n",
      "Requirement already satisfied: keras in /home/giacomo/.local/lib/python3.10/site-packages (2.15.0)\n",
      "Defaulting to user installation because normal site-packages is not writeable\n",
      "Requirement already satisfied: keras-rl2 in /home/giacomo/.local/lib/python3.10/site-packages (1.0.5)\n",
      "Requirement already satisfied: tensorflow in /usr/local/lib/python3.10/dist-packages (from keras-rl2) (2.15.0)\n",
      "Requirement already satisfied: absl-py>=1.0.0 in /home/giacomo/.local/lib/python3.10/site-packages (from tensorflow->keras-rl2) (2.1.0)\n",
      "Requirement already satisfied: astunparse>=1.6.0 in /home/giacomo/.local/lib/python3.10/site-packages (from tensorflow->keras-rl2) (1.6.3)\n",
      "Requirement already satisfied: flatbuffers>=23.5.26 in /home/giacomo/.local/lib/python3.10/site-packages (from tensorflow->keras-rl2) (24.3.25)\n",
      "Requirement already satisfied: gast!=0.5.0,!=0.5.1,!=0.5.2,>=0.2.1 in /home/giacomo/.local/lib/python3.10/site-packages (from tensorflow->keras-rl2) (0.5.5)\n",
      "Requirement already satisfied: google-pasta>=0.1.1 in /home/giacomo/.local/lib/python3.10/site-packages (from tensorflow->keras-rl2) (0.2.0)\n",
      "Requirement already satisfied: h5py>=2.9.0 in /home/giacomo/.local/lib/python3.10/site-packages (from tensorflow->keras-rl2) (3.10.0)\n",
      "Requirement already satisfied: libclang>=13.0.0 in /home/giacomo/.local/lib/python3.10/site-packages (from tensorflow->keras-rl2) (18.1.1)\n",
      "Requirement already satisfied: ml-dtypes~=0.2.0 in /home/giacomo/.local/lib/python3.10/site-packages (from tensorflow->keras-rl2) (0.2.0)\n",
      "Requirement already satisfied: numpy<2.0.0,>=1.23.5 in /home/giacomo/.local/lib/python3.10/site-packages (from tensorflow->keras-rl2) (1.26.1)\n",
      "Requirement already satisfied: opt-einsum>=2.3.2 in /home/giacomo/.local/lib/python3.10/site-packages (from tensorflow->keras-rl2) (3.3.0)\n",
      "Requirement already satisfied: packaging in /home/giacomo/.local/lib/python3.10/site-packages (from tensorflow->keras-rl2) (24.1)\n",
      "Requirement already satisfied: protobuf!=4.21.0,!=4.21.1,!=4.21.2,!=4.21.3,!=4.21.4,!=4.21.5,<5.0.0dev,>=3.20.3 in /home/giacomo/.local/lib/python3.10/site-packages (from tensorflow->keras-rl2) (4.25.3)\n",
      "Requirement already satisfied: setuptools in /home/giacomo/.local/lib/python3.10/site-packages (from tensorflow->keras-rl2) (68.2.2)\n",
      "Requirement already satisfied: six>=1.12.0 in /usr/lib/python3/dist-packages (from tensorflow->keras-rl2) (1.16.0)\n",
      "Requirement already satisfied: termcolor>=1.1.0 in /home/giacomo/.local/lib/python3.10/site-packages (from tensorflow->keras-rl2) (2.4.0)\n",
      "Requirement already satisfied: typing-extensions>=3.6.6 in /home/giacomo/.local/lib/python3.10/site-packages (from tensorflow->keras-rl2) (4.8.0)\n",
      "Requirement already satisfied: wrapt<1.15,>=1.11.0 in /usr/lib/python3/dist-packages (from tensorflow->keras-rl2) (1.13.3)\n",
      "Requirement already satisfied: tensorflow-io-gcs-filesystem>=0.23.1 in /home/giacomo/.local/lib/python3.10/site-packages (from tensorflow->keras-rl2) (0.37.0)\n",
      "Requirement already satisfied: grpcio<2.0,>=1.24.3 in /home/giacomo/.local/lib/python3.10/site-packages (from tensorflow->keras-rl2) (1.64.1)\n",
      "Requirement already satisfied: tensorboard<2.16,>=2.15 in /home/giacomo/.local/lib/python3.10/site-packages (from tensorflow->keras-rl2) (2.15.2)\n",
      "Requirement already satisfied: tensorflow-estimator<2.16,>=2.15.0 in /usr/local/lib/python3.10/dist-packages (from tensorflow->keras-rl2) (2.15.0)\n",
      "Requirement already satisfied: keras<2.16,>=2.15.0 in /home/giacomo/.local/lib/python3.10/site-packages (from tensorflow->keras-rl2) (2.15.0)\n",
      "Requirement already satisfied: wheel<1.0,>=0.23.0 in /usr/lib/python3/dist-packages (from astunparse>=1.6.0->tensorflow->keras-rl2) (0.37.1)\n",
      "Requirement already satisfied: google-auth<3,>=1.6.3 in /usr/local/lib/python3.10/dist-packages (from tensorboard<2.16,>=2.15->tensorflow->keras-rl2) (2.30.0)\n",
      "Requirement already satisfied: google-auth-oauthlib<2,>=0.5 in /usr/local/lib/python3.10/dist-packages (from tensorboard<2.16,>=2.15->tensorflow->keras-rl2) (1.2.0)\n",
      "Requirement already satisfied: markdown>=2.6.8 in /home/giacomo/.local/lib/python3.10/site-packages (from tensorboard<2.16,>=2.15->tensorflow->keras-rl2) (3.6)\n",
      "Requirement already satisfied: requests<3,>=2.21.0 in /home/giacomo/.local/lib/python3.10/site-packages (from tensorboard<2.16,>=2.15->tensorflow->keras-rl2) (2.32.3)\n",
      "Requirement already satisfied: tensorboard-data-server<0.8.0,>=0.7.0 in /home/giacomo/.local/lib/python3.10/site-packages (from tensorboard<2.16,>=2.15->tensorflow->keras-rl2) (0.7.2)\n",
      "Requirement already satisfied: werkzeug>=1.0.1 in /home/giacomo/.local/lib/python3.10/site-packages (from tensorboard<2.16,>=2.15->tensorflow->keras-rl2) (3.0.1)\n",
      "Requirement already satisfied: cachetools<6.0,>=2.0.0 in /usr/local/lib/python3.10/dist-packages (from google-auth<3,>=1.6.3->tensorboard<2.16,>=2.15->tensorflow->keras-rl2) (5.3.3)\n",
      "Requirement already satisfied: pyasn1-modules>=0.2.1 in /usr/local/lib/python3.10/dist-packages (from google-auth<3,>=1.6.3->tensorboard<2.16,>=2.15->tensorflow->keras-rl2) (0.4.0)\n",
      "Requirement already satisfied: rsa<5,>=3.1.4 in /usr/local/lib/python3.10/dist-packages (from google-auth<3,>=1.6.3->tensorboard<2.16,>=2.15->tensorflow->keras-rl2) (4.9)\n",
      "Requirement already satisfied: requests-oauthlib>=0.7.0 in /usr/local/lib/python3.10/dist-packages (from google-auth-oauthlib<2,>=0.5->tensorboard<2.16,>=2.15->tensorflow->keras-rl2) (2.0.0)\n",
      "Requirement already satisfied: charset-normalizer<4,>=2 in /home/giacomo/.local/lib/python3.10/site-packages (from requests<3,>=2.21.0->tensorboard<2.16,>=2.15->tensorflow->keras-rl2) (3.3.2)\n",
      "Requirement already satisfied: idna<4,>=2.5 in /usr/lib/python3/dist-packages (from requests<3,>=2.21.0->tensorboard<2.16,>=2.15->tensorflow->keras-rl2) (3.3)\n",
      "Requirement already satisfied: urllib3<3,>=1.21.1 in /usr/lib/python3/dist-packages (from requests<3,>=2.21.0->tensorboard<2.16,>=2.15->tensorflow->keras-rl2) (1.26.5)\n",
      "Requirement already satisfied: certifi>=2017.4.17 in /usr/lib/python3/dist-packages (from requests<3,>=2.21.0->tensorboard<2.16,>=2.15->tensorflow->keras-rl2) (2020.6.20)\n",
      "Requirement already satisfied: MarkupSafe>=2.1.1 in /home/giacomo/.local/lib/python3.10/site-packages (from werkzeug>=1.0.1->tensorboard<2.16,>=2.15->tensorflow->keras-rl2) (2.1.5)\n",
      "Requirement already satisfied: pyasn1<0.7.0,>=0.4.6 in /usr/local/lib/python3.10/dist-packages (from pyasn1-modules>=0.2.1->google-auth<3,>=1.6.3->tensorboard<2.16,>=2.15->tensorflow->keras-rl2) (0.6.0)\n",
      "Requirement already satisfied: oauthlib>=3.0.0 in /usr/lib/python3/dist-packages (from requests-oauthlib>=0.7.0->google-auth-oauthlib<2,>=0.5->tensorboard<2.16,>=2.15->tensorflow->keras-rl2) (3.2.0)\n"
     ]
    }
   ],
   "source": [
    "#!pip uninstall tensorflow\n",
    "!pip install tensorflow==2.15\n",
    "!pip install gym\n",
    "!pip install keras\n",
    "!pip install keras-rl2"
   ]
  },
  {
   "cell_type": "code",
   "execution_count": 18,
   "id": "d1f1bd36-dfa9-4d14-8062-ea32b0deee47",
   "metadata": {},
   "outputs": [],
   "source": [
    "import gym\n",
    "import random"
   ]
  },
  {
   "cell_type": "code",
   "execution_count": 19,
   "id": "f9f0520f-2189-43f0-9ae5-dc5af8a403f2",
   "metadata": {},
   "outputs": [
    {
     "name": "stderr",
     "output_type": "stream",
     "text": [
      "/home/giacomo/.local/lib/python3.10/site-packages/gym/envs/registration.py:555: UserWarning: \u001b[33mWARN: The environment CartPole-v0 is out of date. You should consider upgrading to version `v1`.\u001b[0m\n",
      "  logger.warn(\n"
     ]
    }
   ],
   "source": [
    "env = gym.make('CartPole-v0')\n",
    "states = env.observation_space.shape[0]\n",
    "actions = env.action_space.n"
   ]
  },
  {
   "cell_type": "code",
   "execution_count": 20,
   "id": "c5819d6f-6f8f-4407-9067-fc6effbccdd5",
   "metadata": {},
   "outputs": [
    {
     "data": {
      "text/plain": [
       "4"
      ]
     },
     "execution_count": 20,
     "metadata": {},
     "output_type": "execute_result"
    }
   ],
   "source": [
    "states"
   ]
  },
  {
   "cell_type": "code",
   "execution_count": 21,
   "id": "7a517360-94bd-4b17-ad98-a37fc6ba7a75",
   "metadata": {},
   "outputs": [
    {
     "name": "stdout",
     "output_type": "stream",
     "text": [
      "(array([ 0.00068803,  0.22757941, -0.01588403, -0.33797422], dtype=float32), 1.0, False, False, {})\n",
      "(array([ 0.0136981 ,  0.6183541 , -0.03535599, -0.9353504 ], dtype=float32), 1.0, False, False, {})\n",
      "(array([ 0.04234387,  1.0097077 , -0.0788416 , -1.5480477 ], dtype=float32), 1.0, False, False, {})\n",
      "(array([ 0.08665168,  1.0119214 , -0.1470876 , -1.6075779 ], dtype=float32), 1.0, False, False, {})\n",
      "(array([ 0.12326635,  0.62633044, -0.20652176, -1.1324474 ], dtype=float32), 1.0, False, False, {})\n",
      "Episode:1 Score:5.0\n",
      "(array([-0.00771558,  0.22738522,  0.00174585, -0.33921972], dtype=float32), 1.0, False, False, {})\n",
      "(array([ 0.00528177,  0.6176742 , -0.01766557, -0.92561704], dtype=float32), 1.0, False, False, {})\n",
      "(array([ 0.03389586,  0.6183924 , -0.06065389, -0.9426671 ], dtype=float32), 1.0, False, False, {})\n",
      "(array([ 0.05474646,  0.23020613, -0.09290008, -0.4030143 ], dtype=float32), 1.0, False, False, {})\n",
      "(array([ 0.06008091,  0.23292823, -0.10378048, -0.46375528], dtype=float32), 1.0, False, False, {})\n",
      "(array([ 0.07332651,  0.23594944, -0.12880082, -0.53217816], dtype=float32), 1.0, False, False, {})\n",
      "(array([ 0.07890254,  0.23965886, -0.14509827, -0.6159028 ], dtype=float32), 1.0, False, False, {})\n",
      "(array([ 0.09242528,  0.6333283 , -0.1764271 , -1.2882526 ], dtype=float32), 1.0, False, False, {})\n",
      "(array([ 0.12169585,  0.6379462 , -0.2348037 , -1.4071112 ], dtype=float32), 1.0, True, False, {})\n",
      "Episode:2 Score:8.0\n",
      "(array([-0.00680077,  0.17337947, -0.0282398 , -0.2871209 ], dtype=float32), 1.0, False, False, {})\n",
      "(array([ 0.00404467,  0.56447345, -0.04575371, -0.89176583], dtype=float32), 1.0, False, False, {})\n",
      "(array([ 0.03053785,  0.95606977, -0.08755849, -1.5103886 ], dtype=float32), 1.0, False, False, {})\n",
      "(array([ 0.07270198,  0.9585002 , -0.1543477 , -1.5751722 ], dtype=float32), 1.0, False, False, {})\n",
      "(array([ 0.10718235,  0.96243185, -0.21253793, -1.6789489 ], dtype=float32), 1.0, True, False, {})\n",
      "Episode:3 Score:4.0\n",
      "(array([ 0.02142808,  0.15926494,  0.03594999, -0.2613515 ], dtype=float32), 1.0, False, False, {})\n",
      "(array([ 0.03169049,  0.1583158 ,  0.01987332, -0.24027945], dtype=float32), 1.0, False, False, {})\n",
      "(array([ 0.03411512,  0.15781838,  0.01623983, -0.2292859 ], dtype=float32), 1.0, False, False, {})\n",
      "(array([ 0.04432558,  0.54766047,  0.00131807, -0.80579007], dtype=float32), 1.0, False, False, {})\n",
      "(array([ 0.07013408,  0.5478403 , -0.0367589 , -0.8100544 ], dtype=float32), 1.0, False, False, {})\n",
      "(array([ 0.0881557 ,  0.5490662 , -0.06354313, -0.83804625], dtype=float32), 1.0, False, False, {})\n",
      "(array([ 0.11403693,  0.94106853, -0.10330438, -1.466762  ], dtype=float32), 1.0, False, False, {})\n",
      "(array([ 0.15560415,  0.9438846 , -0.16843654, -1.5411645 ], dtype=float32), 1.0, False, False, {})\n",
      "(array([ 0.18950465,  0.9481514 , -0.22536837, -1.653291  ], dtype=float32), 1.0, True, False, {})\n",
      "Episode:4 Score:8.0\n",
      "(array([-0.03150235,  0.16636503,  0.00298924, -0.24987608], dtype=float32), 1.0, False, False, {})\n",
      "(array([-0.02094617,  0.1663505 , -0.01284058, -0.24956517], dtype=float32), 1.0, False, False, {})\n",
      "(array([-0.01819088, -0.22344752, -0.01705108,  0.32604396], dtype=float32), 1.0, False, False, {})\n",
      "(array([-0.03102628, -0.6132958 ,  0.00173583,  0.9026491 ], dtype=float32), 1.0, False, False, {})\n",
      "(array([-0.05946102, -1.0038137 ,  0.04370635,  1.494696  ], dtype=float32), 1.0, False, False, {})\n",
      "(array([-0.10352608, -1.3953027 ,  0.10961426,  2.1153183 ], dtype=float32), 1.0, False, False, {})\n",
      "(array([-0.16325882, -1.7873949 ,  0.20071591,  2.7749598 ], dtype=float32), 1.0, False, False, {})\n",
      "Episode:5 Score:7.0\n",
      "(array([-0.02627729, -0.1865215 , -0.00138645,  0.28100577], dtype=float32), 1.0, False, False, {})\n",
      "(array([-0.03764019, -0.5768047 ,  0.01569869,  0.86726475], dtype=float32), 1.0, False, False, {})\n",
      "(array([-0.06461902, -0.5774601 ,  0.05634082,  0.8826996 ], dtype=float32), 1.0, False, False, {})\n",
      "(array([-0.08383115, -0.18913303,  0.08615976,  0.33975783], dtype=float32), 1.0, False, False, {})\n",
      "(array([-0.08752053, -0.19165906,  0.09446372,  0.3959429 ], dtype=float32), 1.0, False, False, {})\n",
      "(array([-0.09911343, -0.19441831,  0.11671959,  0.45806822], dtype=float32), 1.0, False, False, {})\n",
      "(array([-0.10302425,  0.19199492,  0.12996767, -0.04613774], dtype=float32), 1.0, False, False, {})\n",
      "(array([-0.09148362,  0.188334  ,  0.12314181,  0.0352795 ], dtype=float32), 1.0, False, False, {})\n",
      "(array([-0.08788332,  0.18484527,  0.13113014,  0.11292855], dtype=float32), 1.0, False, False, {})\n",
      "(array([-0.07662905,  0.18111296,  0.13067515,  0.19593301], dtype=float32), 1.0, False, False, {})\n",
      "(array([-0.07331904, -0.21234597,  0.1451301 ,  0.8586971 ], dtype=float32), 1.0, False, False, {})\n",
      "(array([-0.08574826, -0.21642378,  0.18616937,  0.9555363 ], dtype=float32), 1.0, False, False, {})\n",
      "(array([-0.09056129, -0.2215066 ,  0.21981293,  1.0762765 ], dtype=float32), 1.0, True, False, {})\n",
      "Episode:6 Score:12.0\n",
      "(array([ 0.04035607, -0.22398491,  0.02462762,  0.30194053], dtype=float32), 1.0, False, False, {})\n",
      "(array([ 0.02748739, -0.61498624,  0.04271219,  0.90447   ], dtype=float32), 1.0, False, False, {})\n",
      "(array([-0.00102553, -0.61637336,  0.08500691,  0.9372397 ], dtype=float32), 1.0, False, False, {})\n",
      "(array([-0.02180288, -0.61889356,  0.11720037,  0.9958963 ], dtype=float32), 1.0, False, False, {})\n",
      "(array([-0.05048818, -0.62222195,  0.16357768,  1.076151  ], dtype=float32), 1.0, False, False, {})\n",
      "(array([-0.0715245 , -0.23741646,  0.20187958,  0.60971117], dtype=float32), 1.0, False, False, {})\n",
      "Episode:7 Score:6.0\n",
      "(array([-0.00348104, -0.1833146 ,  0.03991453,  0.35225862], dtype=float32), 1.0, False, False, {})\n",
      "(array([-0.01472695, -0.57472384,  0.06010482,  0.96434784], dtype=float32), 1.0, False, False, {})\n",
      "(array([-0.04163342, -0.5765748 ,  0.1048976 ,  1.0084873 ], dtype=float32), 1.0, False, False, {})\n",
      "(array([-0.06082487, -0.1898021 ,  0.14007737,  0.4996452 ], dtype=float32), 1.0, False, False, {})\n",
      "(array([-0.06455899, -0.19381456,  0.15515389,  0.5901817 ], dtype=float32), 1.0, False, False, {})\n",
      "(array([-0.07624987, -0.58766425,  0.18550628,  1.2675908 ], dtype=float32), 1.0, False, False, {})\n",
      "Episode:8 Score:6.0\n",
      "(array([ 0.0451272 , -0.17984605, -0.02544808,  0.24232216], dtype=float32), 1.0, False, False, {})\n",
      "(array([ 0.03403837, -0.5694215 , -0.01006422,  0.8129914 ], dtype=float32), 1.0, False, False, {})\n",
      "(array([ 0.00736186, -0.5693643 ,  0.02824544,  0.81175905], dtype=float32), 1.0, False, False, {})\n",
      "(array([-0.01151824, -0.18017158,  0.05504248,  0.24975103], dtype=float32), 1.0, False, False, {})\n",
      "(array([-0.01483921, -0.18180637,  0.059536  ,  0.28592983], dtype=float32), 1.0, False, False, {})\n",
      "(array([-0.02602983, -0.57369614,  0.07719019,  0.9092827 ], dtype=float32), 1.0, False, False, {})\n",
      "(array([-0.05289922, -0.96598506,  0.11987972,  1.546172  ], dtype=float32), 1.0, False, False, {})\n",
      "(array([-0.09546543, -1.3587385 ,  0.18827775,  2.2091734 ], dtype=float32), 1.0, False, False, {})\n",
      "Episode:9 Score:8.0\n",
      "(array([ 0.0129304 , -0.20888445, -0.02879429,  0.25089246], dtype=float32), 1.0, False, False, {})\n",
      "(array([ 6.8103947e-04, -5.9836328e-01, -1.3089327e-02,  8.1945312e-01],\n",
      "      dtype=float32), 1.0, False, False, {})\n",
      "(array([-0.0271523 , -0.9884688 ,  0.02545954,  1.4017068 ], dtype=float32), 1.0, False, False, {})\n",
      "(array([-0.07059963, -1.3795933 ,  0.08753847,  2.0110824 ], dtype=float32), 1.0, False, False, {})\n",
      "(array([-0.12970169, -1.7715366 ,  0.17435083,  2.6586385 ], dtype=float32), 1.0, False, False, {})\n",
      "Episode:10 Score:5.0\n"
     ]
    },
    {
     "name": "stderr",
     "output_type": "stream",
     "text": [
      "/home/giacomo/.local/lib/python3.10/site-packages/gym/envs/classic_control/cartpole.py:211: UserWarning: \u001b[33mWARN: You are calling render method without specifying any render mode. You can specify the render_mode at initialization, e.g. gym(\"CartPole-v0\", render_mode=\"rgb_array\")\u001b[0m\n",
      "  gym.logger.warn(\n",
      "/home/giacomo/.local/lib/python3.10/site-packages/gym/utils/passive_env_checker.py:233: DeprecationWarning: `np.bool8` is a deprecated alias for `np.bool_`.  (Deprecated NumPy 1.24)\n",
      "  if not isinstance(terminated, (bool, np.bool8)):\n",
      "/home/giacomo/.local/lib/python3.10/site-packages/gym/envs/classic_control/cartpole.py:177: UserWarning: \u001b[33mWARN: You are calling 'step()' even though this environment has already returned terminated = True. You should always call 'reset()' once you receive 'terminated = True' -- any further steps are undefined behavior.\u001b[0m\n",
      "  logger.warn(\n"
     ]
    }
   ],
   "source": [
    "episodes = 10\n",
    "for episode in range(1, episodes+1):\n",
    "    state = env.reset()\n",
    "    done = False\n",
    "    score = 0\n",
    "\n",
    "    while not done:\n",
    "        env.render()\n",
    "        action = random.choice([0, 1])\n",
    "        print(env.step(action))\n",
    "        n_state, reward, done, info, boh = env.step(action)\n",
    "        score+=reward\n",
    "    print('Episode:{} Score:{}'.format(episode, score))\n",
    "    "
   ]
  },
  {
   "cell_type": "code",
   "execution_count": 22,
   "id": "ce24364b-2b44-4c3e-afbc-80095832b40e",
   "metadata": {},
   "outputs": [],
   "source": [
    "import numpy as np\n",
    "from tensorflow.keras.models import Sequential\n",
    "from tensorflow.keras.layers import Dense, Flatten\n",
    "from tensorflow.keras.optimizers import Adam"
   ]
  },
  {
   "cell_type": "code",
   "execution_count": 31,
   "id": "4ea9dc4b-4028-4322-a104-d5590b4d097c",
   "metadata": {},
   "outputs": [],
   "source": [
    "def build_model(states, actions):\n",
    "    model = Sequential()\n",
    "    model.add(Flatten(input_shape=(1,states)))\n",
    "    model.add(Dense(24, activation='relu'))\n",
    "    model.add(Dense(24, activation='relu'))\n",
    "    model.add(Dense(actions, activation='linear'))\n",
    "    return model"
   ]
  },
  {
   "cell_type": "code",
   "execution_count": 32,
   "id": "1a29149c-7237-4db1-a509-5cdc743c6211",
   "metadata": {},
   "outputs": [],
   "source": [
    "import tensorflow as tf\n",
    "from keras import __version__\n",
    "tf.keras.__version__ = __version__"
   ]
  },
  {
   "cell_type": "code",
   "execution_count": 33,
   "id": "ad776e6d-3714-4324-95a7-816484c39088",
   "metadata": {},
   "outputs": [
    {
     "name": "stdout",
     "output_type": "stream",
     "text": [
      "Model: \"sequential_2\"\n",
      "_________________________________________________________________\n",
      " Layer (type)                Output Shape              Param #   \n",
      "=================================================================\n",
      " flatten_2 (Flatten)         (None, 4)                 0         \n",
      "                                                                 \n",
      " dense_6 (Dense)             (None, 24)                120       \n",
      "                                                                 \n",
      " dense_7 (Dense)             (None, 24)                600       \n",
      "                                                                 \n",
      " dense_8 (Dense)             (None, 2)                 50        \n",
      "                                                                 \n",
      "=================================================================\n",
      "Total params: 770 (3.01 KB)\n",
      "Trainable params: 770 (3.01 KB)\n",
      "Non-trainable params: 0 (0.00 Byte)\n",
      "_________________________________________________________________\n"
     ]
    }
   ],
   "source": [
    "from rl.agents import DQNAgent\n",
    "from rl.policy import BoltzmannQPolicy\n",
    "from rl.memory import SequentialMemory\n",
    "\n",
    "model = build_model(states, actions)\n",
    "model.summary()"
   ]
  },
  {
   "cell_type": "code",
   "execution_count": 36,
   "id": "db961ece-6ada-42d3-8e83-5e9ae5026afa",
   "metadata": {},
   "outputs": [],
   "source": [
    "def build_agent(model, actions):\n",
    "    policy = BoltzmannQPolicy()\n",
    "    memory = SequentialMemory(limit=50000, window_length=1)\n",
    "    dqn = DQNAgent(model=model, memory=memory, policy=policy, \n",
    "                  nb_actions=actions, nb_steps_warmup=10, target_model_update=1e-2)\n",
    "    return dqn"
   ]
  },
  {
   "cell_type": "code",
   "execution_count": 38,
   "id": "85f91f47-a754-421a-98f9-56108da455cd",
   "metadata": {},
   "outputs": [
    {
     "name": "stderr",
     "output_type": "stream",
     "text": [
      "2024-06-27 12:30:24.847307: W tensorflow/c/c_api.cc:305] Operation '{name:'dense_8_3/bias/Assign' id:1746 op device:{requested: '', assigned: ''} def:{{{node dense_8_3/bias/Assign}} = AssignVariableOp[_has_manual_control_dependencies=true, dtype=DT_FLOAT, validate_shape=false](dense_8_3/bias, dense_8_3/bias/Initializer/zeros)}}' was changed by setting attribute after it was run by a session. This mutation will have no effect, and will trigger an error in the future. Either don't modify nodes after running them or create a new session.\n"
     ]
    },
    {
     "name": "stdout",
     "output_type": "stream",
     "text": [
      "Training for 50000 steps ...\n",
      "Interval 1 (0 steps performed)\n"
     ]
    },
    {
     "ename": "ValueError",
     "evalue": "Error when checking input: expected flatten_2_input to have shape (1, 4) but got array with shape (1, 2)",
     "output_type": "error",
     "traceback": [
      "\u001b[0;31m---------------------------------------------------------------------------\u001b[0m",
      "\u001b[0;31mValueError\u001b[0m                                Traceback (most recent call last)",
      "Cell \u001b[0;32mIn[38], line 3\u001b[0m\n\u001b[1;32m      1\u001b[0m dqn \u001b[38;5;241m=\u001b[39m build_agent(model, actions)\n\u001b[1;32m      2\u001b[0m dqn\u001b[38;5;241m.\u001b[39mcompile(tf\u001b[38;5;241m.\u001b[39mkeras\u001b[38;5;241m.\u001b[39moptimizers\u001b[38;5;241m.\u001b[39mlegacy\u001b[38;5;241m.\u001b[39mAdam(lr\u001b[38;5;241m=\u001b[39m\u001b[38;5;241m1e-3\u001b[39m), metrics\u001b[38;5;241m=\u001b[39m[\u001b[38;5;124m'\u001b[39m\u001b[38;5;124mmae\u001b[39m\u001b[38;5;124m'\u001b[39m])\n\u001b[0;32m----> 3\u001b[0m \u001b[43mdqn\u001b[49m\u001b[38;5;241;43m.\u001b[39;49m\u001b[43mfit\u001b[49m\u001b[43m(\u001b[49m\u001b[43menv\u001b[49m\u001b[43m,\u001b[49m\u001b[43m \u001b[49m\u001b[43mnb_steps\u001b[49m\u001b[38;5;241;43m=\u001b[39;49m\u001b[38;5;241;43m50000\u001b[39;49m\u001b[43m,\u001b[49m\u001b[43m \u001b[49m\u001b[43mvisualize\u001b[49m\u001b[38;5;241;43m=\u001b[39;49m\u001b[38;5;28;43;01mFalse\u001b[39;49;00m\u001b[43m,\u001b[49m\u001b[43m \u001b[49m\u001b[43mverbose\u001b[49m\u001b[38;5;241;43m=\u001b[39;49m\u001b[38;5;241;43m1\u001b[39;49m\u001b[43m)\u001b[49m\n",
      "File \u001b[0;32m~/.local/lib/python3.10/site-packages/rl/core.py:168\u001b[0m, in \u001b[0;36mAgent.fit\u001b[0;34m(self, env, nb_steps, action_repetition, callbacks, verbose, visualize, nb_max_start_steps, start_step_policy, log_interval, nb_max_episode_steps)\u001b[0m\n\u001b[1;32m    165\u001b[0m callbacks\u001b[38;5;241m.\u001b[39mon_step_begin(episode_step)\n\u001b[1;32m    166\u001b[0m \u001b[38;5;66;03m# This is were all of the work happens. We first perceive and compute the action\u001b[39;00m\n\u001b[1;32m    167\u001b[0m \u001b[38;5;66;03m# (forward step) and then use the reward to improve (backward step).\u001b[39;00m\n\u001b[0;32m--> 168\u001b[0m action \u001b[38;5;241m=\u001b[39m \u001b[38;5;28;43mself\u001b[39;49m\u001b[38;5;241;43m.\u001b[39;49m\u001b[43mforward\u001b[49m\u001b[43m(\u001b[49m\u001b[43mobservation\u001b[49m\u001b[43m)\u001b[49m\n\u001b[1;32m    169\u001b[0m \u001b[38;5;28;01mif\u001b[39;00m \u001b[38;5;28mself\u001b[39m\u001b[38;5;241m.\u001b[39mprocessor \u001b[38;5;129;01mis\u001b[39;00m \u001b[38;5;129;01mnot\u001b[39;00m \u001b[38;5;28;01mNone\u001b[39;00m:\n\u001b[1;32m    170\u001b[0m     action \u001b[38;5;241m=\u001b[39m \u001b[38;5;28mself\u001b[39m\u001b[38;5;241m.\u001b[39mprocessor\u001b[38;5;241m.\u001b[39mprocess_action(action)\n",
      "File \u001b[0;32m~/.local/lib/python3.10/site-packages/rl/agents/dqn.py:224\u001b[0m, in \u001b[0;36mDQNAgent.forward\u001b[0;34m(self, observation)\u001b[0m\n\u001b[1;32m    221\u001b[0m \u001b[38;5;28;01mdef\u001b[39;00m \u001b[38;5;21mforward\u001b[39m(\u001b[38;5;28mself\u001b[39m, observation):\n\u001b[1;32m    222\u001b[0m     \u001b[38;5;66;03m# Select an action.\u001b[39;00m\n\u001b[1;32m    223\u001b[0m     state \u001b[38;5;241m=\u001b[39m \u001b[38;5;28mself\u001b[39m\u001b[38;5;241m.\u001b[39mmemory\u001b[38;5;241m.\u001b[39mget_recent_state(observation)\n\u001b[0;32m--> 224\u001b[0m     q_values \u001b[38;5;241m=\u001b[39m \u001b[38;5;28;43mself\u001b[39;49m\u001b[38;5;241;43m.\u001b[39;49m\u001b[43mcompute_q_values\u001b[49m\u001b[43m(\u001b[49m\u001b[43mstate\u001b[49m\u001b[43m)\u001b[49m\n\u001b[1;32m    225\u001b[0m     \u001b[38;5;28;01mif\u001b[39;00m \u001b[38;5;28mself\u001b[39m\u001b[38;5;241m.\u001b[39mtraining:\n\u001b[1;32m    226\u001b[0m         action \u001b[38;5;241m=\u001b[39m \u001b[38;5;28mself\u001b[39m\u001b[38;5;241m.\u001b[39mpolicy\u001b[38;5;241m.\u001b[39mselect_action(q_values\u001b[38;5;241m=\u001b[39mq_values)\n",
      "File \u001b[0;32m~/.local/lib/python3.10/site-packages/rl/agents/dqn.py:68\u001b[0m, in \u001b[0;36mAbstractDQNAgent.compute_q_values\u001b[0;34m(self, state)\u001b[0m\n\u001b[1;32m     67\u001b[0m \u001b[38;5;28;01mdef\u001b[39;00m \u001b[38;5;21mcompute_q_values\u001b[39m(\u001b[38;5;28mself\u001b[39m, state):\n\u001b[0;32m---> 68\u001b[0m     q_values \u001b[38;5;241m=\u001b[39m \u001b[38;5;28;43mself\u001b[39;49m\u001b[38;5;241;43m.\u001b[39;49m\u001b[43mcompute_batch_q_values\u001b[49m\u001b[43m(\u001b[49m\u001b[43m[\u001b[49m\u001b[43mstate\u001b[49m\u001b[43m]\u001b[49m\u001b[43m)\u001b[49m\u001b[38;5;241m.\u001b[39mflatten()\n\u001b[1;32m     69\u001b[0m     \u001b[38;5;28;01massert\u001b[39;00m q_values\u001b[38;5;241m.\u001b[39mshape \u001b[38;5;241m==\u001b[39m (\u001b[38;5;28mself\u001b[39m\u001b[38;5;241m.\u001b[39mnb_actions,)\n\u001b[1;32m     70\u001b[0m     \u001b[38;5;28;01mreturn\u001b[39;00m q_values\n",
      "File \u001b[0;32m~/.local/lib/python3.10/site-packages/rl/agents/dqn.py:63\u001b[0m, in \u001b[0;36mAbstractDQNAgent.compute_batch_q_values\u001b[0;34m(self, state_batch)\u001b[0m\n\u001b[1;32m     61\u001b[0m \u001b[38;5;28;01mdef\u001b[39;00m \u001b[38;5;21mcompute_batch_q_values\u001b[39m(\u001b[38;5;28mself\u001b[39m, state_batch):\n\u001b[1;32m     62\u001b[0m     batch \u001b[38;5;241m=\u001b[39m \u001b[38;5;28mself\u001b[39m\u001b[38;5;241m.\u001b[39mprocess_state_batch(state_batch)\n\u001b[0;32m---> 63\u001b[0m     q_values \u001b[38;5;241m=\u001b[39m \u001b[38;5;28;43mself\u001b[39;49m\u001b[38;5;241;43m.\u001b[39;49m\u001b[43mmodel\u001b[49m\u001b[38;5;241;43m.\u001b[39;49m\u001b[43mpredict_on_batch\u001b[49m\u001b[43m(\u001b[49m\u001b[43mbatch\u001b[49m\u001b[43m)\u001b[49m\n\u001b[1;32m     64\u001b[0m     \u001b[38;5;28;01massert\u001b[39;00m q_values\u001b[38;5;241m.\u001b[39mshape \u001b[38;5;241m==\u001b[39m (\u001b[38;5;28mlen\u001b[39m(state_batch), \u001b[38;5;28mself\u001b[39m\u001b[38;5;241m.\u001b[39mnb_actions)\n\u001b[1;32m     65\u001b[0m     \u001b[38;5;28;01mreturn\u001b[39;00m q_values\n",
      "File \u001b[0;32m~/.local/lib/python3.10/site-packages/keras/src/engine/training_v1.py:1305\u001b[0m, in \u001b[0;36mModel.predict_on_batch\u001b[0;34m(self, x)\u001b[0m\n\u001b[1;32m   1300\u001b[0m     \u001b[38;5;28;01mraise\u001b[39;00m \u001b[38;5;167;01mNotImplementedError\u001b[39;00m(\n\u001b[1;32m   1301\u001b[0m         \u001b[38;5;124m\"\u001b[39m\u001b[38;5;124m`predict_on_batch` is not supported for models distributed \u001b[39m\u001b[38;5;124m\"\u001b[39m\n\u001b[1;32m   1302\u001b[0m         \u001b[38;5;124m\"\u001b[39m\u001b[38;5;124mwith tf.distribute.Strategy.\u001b[39m\u001b[38;5;124m\"\u001b[39m\n\u001b[1;32m   1303\u001b[0m     )\n\u001b[1;32m   1304\u001b[0m \u001b[38;5;66;03m# Validate and standardize user data.\u001b[39;00m\n\u001b[0;32m-> 1305\u001b[0m inputs, _, _ \u001b[38;5;241m=\u001b[39m \u001b[38;5;28;43mself\u001b[39;49m\u001b[38;5;241;43m.\u001b[39;49m\u001b[43m_standardize_user_data\u001b[49m\u001b[43m(\u001b[49m\n\u001b[1;32m   1306\u001b[0m \u001b[43m    \u001b[49m\u001b[43mx\u001b[49m\u001b[43m,\u001b[49m\u001b[43m \u001b[49m\u001b[43mextract_tensors_from_dataset\u001b[49m\u001b[38;5;241;43m=\u001b[39;49m\u001b[38;5;28;43;01mTrue\u001b[39;49;00m\n\u001b[1;32m   1307\u001b[0m \u001b[43m\u001b[49m\u001b[43m)\u001b[49m\n\u001b[1;32m   1308\u001b[0m \u001b[38;5;66;03m# If `self._distribution_strategy` is True, then we are in a replica\u001b[39;00m\n\u001b[1;32m   1309\u001b[0m \u001b[38;5;66;03m# context at this point.\u001b[39;00m\n\u001b[1;32m   1310\u001b[0m \u001b[38;5;28;01mif\u001b[39;00m \u001b[38;5;28mself\u001b[39m\u001b[38;5;241m.\u001b[39mrun_eagerly \u001b[38;5;129;01mor\u001b[39;00m \u001b[38;5;28mself\u001b[39m\u001b[38;5;241m.\u001b[39m_distribution_strategy:\n",
      "File \u001b[0;32m~/.local/lib/python3.10/site-packages/keras/src/engine/training_v1.py:2652\u001b[0m, in \u001b[0;36mModel._standardize_user_data\u001b[0;34m(self, x, y, sample_weight, class_weight, batch_size, check_steps, steps_name, steps, validation_split, shuffle, extract_tensors_from_dataset)\u001b[0m\n\u001b[1;32m   2643\u001b[0m \u001b[38;5;28;01mif\u001b[39;00m (\n\u001b[1;32m   2644\u001b[0m     \u001b[38;5;129;01mnot\u001b[39;00m run_eagerly\n\u001b[1;32m   2645\u001b[0m     \u001b[38;5;129;01mand\u001b[39;00m is_build_called\n\u001b[0;32m   (...)\u001b[0m\n\u001b[1;32m   2648\u001b[0m     \u001b[38;5;129;01mand\u001b[39;00m \u001b[38;5;28many\u001b[39m(_is_symbolic_tensor(v) \u001b[38;5;28;01mfor\u001b[39;00m v \u001b[38;5;129;01min\u001b[39;00m all_inputs)\n\u001b[1;32m   2649\u001b[0m ):\n\u001b[1;32m   2650\u001b[0m     \u001b[38;5;28;01mreturn\u001b[39;00m [], [], \u001b[38;5;28;01mNone\u001b[39;00m\n\u001b[0;32m-> 2652\u001b[0m \u001b[38;5;28;01mreturn\u001b[39;00m \u001b[38;5;28;43mself\u001b[39;49m\u001b[38;5;241;43m.\u001b[39;49m\u001b[43m_standardize_tensors\u001b[49m\u001b[43m(\u001b[49m\n\u001b[1;32m   2653\u001b[0m \u001b[43m    \u001b[49m\u001b[43mx\u001b[49m\u001b[43m,\u001b[49m\n\u001b[1;32m   2654\u001b[0m \u001b[43m    \u001b[49m\u001b[43my\u001b[49m\u001b[43m,\u001b[49m\n\u001b[1;32m   2655\u001b[0m \u001b[43m    \u001b[49m\u001b[43msample_weight\u001b[49m\u001b[43m,\u001b[49m\n\u001b[1;32m   2656\u001b[0m \u001b[43m    \u001b[49m\u001b[43mrun_eagerly\u001b[49m\u001b[38;5;241;43m=\u001b[39;49m\u001b[43mrun_eagerly\u001b[49m\u001b[43m,\u001b[49m\n\u001b[1;32m   2657\u001b[0m \u001b[43m    \u001b[49m\u001b[43mdict_inputs\u001b[49m\u001b[38;5;241;43m=\u001b[39;49m\u001b[43mdict_inputs\u001b[49m\u001b[43m,\u001b[49m\n\u001b[1;32m   2658\u001b[0m \u001b[43m    \u001b[49m\u001b[43mis_dataset\u001b[49m\u001b[38;5;241;43m=\u001b[39;49m\u001b[43mis_dataset\u001b[49m\u001b[43m,\u001b[49m\n\u001b[1;32m   2659\u001b[0m \u001b[43m    \u001b[49m\u001b[43mclass_weight\u001b[49m\u001b[38;5;241;43m=\u001b[39;49m\u001b[43mclass_weight\u001b[49m\u001b[43m,\u001b[49m\n\u001b[1;32m   2660\u001b[0m \u001b[43m    \u001b[49m\u001b[43mbatch_size\u001b[49m\u001b[38;5;241;43m=\u001b[39;49m\u001b[43mbatch_size\u001b[49m\u001b[43m,\u001b[49m\n\u001b[1;32m   2661\u001b[0m \u001b[43m\u001b[49m\u001b[43m)\u001b[49m\n",
      "File \u001b[0;32m~/.local/lib/python3.10/site-packages/keras/src/engine/training_v1.py:2693\u001b[0m, in \u001b[0;36mModel._standardize_tensors\u001b[0;34m(self, x, y, sample_weight, run_eagerly, dict_inputs, is_dataset, class_weight, batch_size)\u001b[0m\n\u001b[1;32m   2690\u001b[0m \u001b[38;5;66;03m# Standardize the inputs.\u001b[39;00m\n\u001b[1;32m   2691\u001b[0m \u001b[38;5;28;01mif\u001b[39;00m \u001b[38;5;129;01mnot\u001b[39;00m \u001b[38;5;28misinstance\u001b[39m(x, (tf\u001b[38;5;241m.\u001b[39mcompat\u001b[38;5;241m.\u001b[39mv1\u001b[38;5;241m.\u001b[39mdata\u001b[38;5;241m.\u001b[39mDataset, tf\u001b[38;5;241m.\u001b[39mdata\u001b[38;5;241m.\u001b[39mDataset)):\n\u001b[1;32m   2692\u001b[0m     \u001b[38;5;66;03m# TODO(fchollet): run static checks with dataset output shape(s).\u001b[39;00m\n\u001b[0;32m-> 2693\u001b[0m     x \u001b[38;5;241m=\u001b[39m \u001b[43mtraining_utils_v1\u001b[49m\u001b[38;5;241;43m.\u001b[39;49m\u001b[43mstandardize_input_data\u001b[49m\u001b[43m(\u001b[49m\n\u001b[1;32m   2694\u001b[0m \u001b[43m        \u001b[49m\u001b[43mx\u001b[49m\u001b[43m,\u001b[49m\n\u001b[1;32m   2695\u001b[0m \u001b[43m        \u001b[49m\u001b[43mfeed_input_names\u001b[49m\u001b[43m,\u001b[49m\n\u001b[1;32m   2696\u001b[0m \u001b[43m        \u001b[49m\u001b[43mfeed_input_shapes\u001b[49m\u001b[43m,\u001b[49m\n\u001b[1;32m   2697\u001b[0m \u001b[43m        \u001b[49m\u001b[43mcheck_batch_axis\u001b[49m\u001b[38;5;241;43m=\u001b[39;49m\u001b[38;5;28;43;01mFalse\u001b[39;49;00m\u001b[43m,\u001b[49m\u001b[43m  \u001b[49m\u001b[38;5;66;43;03m# Don't enforce the batch size.\u001b[39;49;00m\n\u001b[1;32m   2698\u001b[0m \u001b[43m        \u001b[49m\u001b[43mexception_prefix\u001b[49m\u001b[38;5;241;43m=\u001b[39;49m\u001b[38;5;124;43m\"\u001b[39;49m\u001b[38;5;124;43minput\u001b[39;49m\u001b[38;5;124;43m\"\u001b[39;49m\u001b[43m,\u001b[49m\n\u001b[1;32m   2699\u001b[0m \u001b[43m    \u001b[49m\u001b[43m)\u001b[49m\n\u001b[1;32m   2701\u001b[0m \u001b[38;5;66;03m# Get typespecs for the input data and sanitize it if necessary.\u001b[39;00m\n\u001b[1;32m   2702\u001b[0m \u001b[38;5;66;03m# TODO(momernick): This should be capable of doing full input validation\u001b[39;00m\n\u001b[1;32m   2703\u001b[0m \u001b[38;5;66;03m# at all times - validate that this is so and refactor the\u001b[39;00m\n\u001b[1;32m   2704\u001b[0m \u001b[38;5;66;03m# standardization code.\u001b[39;00m\n\u001b[1;32m   2705\u001b[0m \u001b[38;5;28;01mif\u001b[39;00m \u001b[38;5;28misinstance\u001b[39m(x, tf\u001b[38;5;241m.\u001b[39mdata\u001b[38;5;241m.\u001b[39mDataset):\n",
      "File \u001b[0;32m~/.local/lib/python3.10/site-packages/keras/src/engine/training_utils_v1.py:731\u001b[0m, in \u001b[0;36mstandardize_input_data\u001b[0;34m(data, names, shapes, check_batch_axis, exception_prefix)\u001b[0m\n\u001b[1;32m    725\u001b[0m             \u001b[38;5;28;01mfor\u001b[39;00m dim, ref_dim \u001b[38;5;129;01min\u001b[39;00m \u001b[38;5;28mzip\u001b[39m(data_shape, shape):\n\u001b[1;32m    726\u001b[0m                 \u001b[38;5;28;01mif\u001b[39;00m (\n\u001b[1;32m    727\u001b[0m                     ref_dim \u001b[38;5;241m!=\u001b[39m dim\n\u001b[1;32m    728\u001b[0m                     \u001b[38;5;129;01mand\u001b[39;00m ref_dim \u001b[38;5;129;01mis\u001b[39;00m \u001b[38;5;129;01mnot\u001b[39;00m \u001b[38;5;28;01mNone\u001b[39;00m\n\u001b[1;32m    729\u001b[0m                     \u001b[38;5;129;01mand\u001b[39;00m dim \u001b[38;5;129;01mis\u001b[39;00m \u001b[38;5;129;01mnot\u001b[39;00m \u001b[38;5;28;01mNone\u001b[39;00m\n\u001b[1;32m    730\u001b[0m                 ):\n\u001b[0;32m--> 731\u001b[0m                     \u001b[38;5;28;01mraise\u001b[39;00m \u001b[38;5;167;01mValueError\u001b[39;00m(\n\u001b[1;32m    732\u001b[0m                         \u001b[38;5;124m\"\u001b[39m\u001b[38;5;124mError when checking \u001b[39m\u001b[38;5;124m\"\u001b[39m\n\u001b[1;32m    733\u001b[0m                         \u001b[38;5;241m+\u001b[39m exception_prefix\n\u001b[1;32m    734\u001b[0m                         \u001b[38;5;241m+\u001b[39m \u001b[38;5;124m\"\u001b[39m\u001b[38;5;124m: expected \u001b[39m\u001b[38;5;124m\"\u001b[39m\n\u001b[1;32m    735\u001b[0m                         \u001b[38;5;241m+\u001b[39m names[i]\n\u001b[1;32m    736\u001b[0m                         \u001b[38;5;241m+\u001b[39m \u001b[38;5;124m\"\u001b[39m\u001b[38;5;124m to have shape \u001b[39m\u001b[38;5;124m\"\u001b[39m\n\u001b[1;32m    737\u001b[0m                         \u001b[38;5;241m+\u001b[39m \u001b[38;5;28mstr\u001b[39m(shape)\n\u001b[1;32m    738\u001b[0m                         \u001b[38;5;241m+\u001b[39m \u001b[38;5;124m\"\u001b[39m\u001b[38;5;124m but got array with shape \u001b[39m\u001b[38;5;124m\"\u001b[39m\n\u001b[1;32m    739\u001b[0m                         \u001b[38;5;241m+\u001b[39m \u001b[38;5;28mstr\u001b[39m(data_shape)\n\u001b[1;32m    740\u001b[0m                     )\n\u001b[1;32m    741\u001b[0m \u001b[38;5;28;01mreturn\u001b[39;00m data\n",
      "\u001b[0;31mValueError\u001b[0m: Error when checking input: expected flatten_2_input to have shape (1, 4) but got array with shape (1, 2)"
     ]
    }
   ],
   "source": [
    "dqn = build_agent(model, actions)\n",
    "dqn.compile(tf.keras.optimizers.legacy.Adam(lr=1e-3), metrics=['mae'])\n",
    "dqn.fit(env, nb_steps=50000, visualize=False, verbose=1)"
   ]
  },
  {
   "cell_type": "code",
   "execution_count": null,
   "id": "47370458-2a9a-4227-a2d9-0ea34b52d4e8",
   "metadata": {},
   "outputs": [],
   "source": []
  },
  {
   "cell_type": "code",
   "execution_count": null,
   "id": "2e05b636-f03f-47a8-9577-b16e34430cec",
   "metadata": {},
   "outputs": [],
   "source": []
  },
  {
   "cell_type": "code",
   "execution_count": null,
   "id": "ab65084e-7dfe-466c-8017-a0bd299ecfba",
   "metadata": {},
   "outputs": [],
   "source": []
  }
 ],
 "metadata": {
  "kernelspec": {
   "display_name": "Python 3 (ipykernel)",
   "language": "python",
   "name": "python3"
  },
  "language_info": {
   "codemirror_mode": {
    "name": "ipython",
    "version": 3
   },
   "file_extension": ".py",
   "mimetype": "text/x-python",
   "name": "python",
   "nbconvert_exporter": "python",
   "pygments_lexer": "ipython3",
   "version": "3.10.12"
  }
 },
 "nbformat": 4,
 "nbformat_minor": 5
}
